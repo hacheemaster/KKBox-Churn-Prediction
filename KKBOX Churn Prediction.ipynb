{
 "cells": [
  {
   "cell_type": "markdown",
   "metadata": {
    "nbpresent": {
     "id": "4b303f62-6a31-4056-8421-3df7b0e2ed61"
    }
   },
   "source": [
    "**GOAL:** Predict if a user will churn (i.e. fail to make a new service subscription 30 days after expiration date) in the month of April, 2017"
   ]
  },
  {
   "cell_type": "code",
   "execution_count": 1,
   "metadata": {
    "nbpresent": {
     "id": "69f0f3ca-b3bd-4d5d-a8aa-93bf59ac47db"
    }
   },
   "outputs": [],
   "source": [
    "import matplotlib.pyplot as plt\n",
    "import matplotlib.ticker as ticker\n",
    "\n",
    "%matplotlib inline"
   ]
  },
  {
   "cell_type": "code",
   "execution_count": 2,
   "metadata": {
    "nbpresent": {
     "id": "58c72e97-8ecc-4e7a-9776-4ad4a7c3e670"
    }
   },
   "outputs": [],
   "source": [
    "import os\n",
    "import pandas as pd\n",
    "import numpy as np"
   ]
  },
  {
   "cell_type": "markdown",
   "metadata": {
    "nbpresent": {
     "id": "a73ded8c-dd0b-460b-bc12-432524e4ab6e"
    }
   },
   "source": [
    "1. Competition Description\n",
    "2. Load Data\n",
    "3. Clean Data & EDA \n",
    "4. Build Predictive Model\n",
    "5. Discussion\n",
    "6. Model Submission"
   ]
  },
  {
   "cell_type": "markdown",
   "metadata": {
    "nbpresent": {
     "id": "43440eea-cfd0-4a71-9844-fbb760e3ecf5"
    }
   },
   "source": [
    "# 1. Competition Description"
   ]
  },
  {
   "cell_type": "markdown",
   "metadata": {
    "nbpresent": {
     "id": "98bade1f-a710-4b0a-8d72-6cdea96f0d78"
    }
   },
   "source": [
    "KKBOX offers a subscription based music streaming service. Customers can either auto-renew or choose to renew manually each month. Users can also choose to cancel their membership at anytime. Therefore, the definition of churn is a bit tricky. The competition hosts chose to define a member as having **churned if there is no new valid subscription 30 days after the current membership expires, even if the user chooses to cancel**. "
   ]
  },
  {
   "cell_type": "markdown",
   "metadata": {
    "nbpresent": {
     "id": "6e987dc1-2ada-4db1-9583-da4efa6909cf"
    }
   },
   "source": [
    "# 2. Load Data"
   ]
  },
  {
   "cell_type": "markdown",
   "metadata": {
    "nbpresent": {
     "id": "1e11620c-51b2-4f33-be2f-c5b4377f5832"
    }
   },
   "source": [
    "Competition files:\n",
    "* members_v3.csv: customer information (age, city, etc.)\n",
    "* transactions_v2.csv: transactions until 3/31/2017 (ONLY month of March 2017)\n",
    "* transactions.csv: transactions of users up until 2/28/2017\n",
    "* train_v2.csv: customers that churn in April 2017\n",
    "* train.csv: customers that churn in March 2017\n",
    "* user_logs.csv: users that churn in  March 2017 (num_25-num100: # of songs played < 25% of song length, # of songs played >98.5% of song length)\n",
    "* user_logs_v2.csv: users that churn in April 2017 "
   ]
  },
  {
   "cell_type": "code",
   "execution_count": 3,
   "metadata": {
    "nbpresent": {
     "id": "cf41782f-616d-4480-a836-69d437f42854"
    },
    "scrolled": true
   },
   "outputs": [],
   "source": [
    "members = pd.read_csv('members_v3.csv')\n",
    "\n",
    "# transactions = pd.read_csv('transactions.csv') #March 2017\n",
    "# transactions_v2 = pd.read_csv('transactions_v2.csv') #April 2017\n",
    "# transactions_all = pd.concat([transactions, transactions_v2])\n",
    "# del transaction, transactions_v2\n",
    "\n",
    "#train = pd.read_csv('train.csv')\n",
    "train_v2 = pd.read_csv('train_v2.csv') \n",
    "\n",
    "# user_logs = pd.read_csv('user_logs.csv',nrows = 1e6) #March 2017\n",
    "# user_logs_v2 = pd.read_csv('user_logs_v2.csv') #April 2017\n",
    "# user_logs_all = pd.concat([user_logs, user_logs_v2])\n",
    "# del user_logs, user_logs_v2\n",
    "\n",
    "#add features to training data\n",
    "train_merged = pd.merge(left=train_v2, right=members, how='left', on=['msno'])\n",
    "#train_merged = pd.merge(left=train_merged, right=transactions_all, how='left', on=['msno'])\n",
    "del train_v2, members"
   ]
  },
  {
   "cell_type": "code",
   "execution_count": 4,
   "metadata": {
    "nbpresent": {
     "id": "87f4045d-cc63-4851-9665-86471c67122e"
    }
   },
   "outputs": [
    {
     "data": {
      "text/html": [
       "<div>\n",
       "<style scoped>\n",
       "    .dataframe tbody tr th:only-of-type {\n",
       "        vertical-align: middle;\n",
       "    }\n",
       "\n",
       "    .dataframe tbody tr th {\n",
       "        vertical-align: top;\n",
       "    }\n",
       "\n",
       "    .dataframe thead th {\n",
       "        text-align: right;\n",
       "    }\n",
       "</style>\n",
       "<table border=\"1\" class=\"dataframe\">\n",
       "  <thead>\n",
       "    <tr style=\"text-align: right;\">\n",
       "      <th></th>\n",
       "      <th>msno</th>\n",
       "      <th>is_churn</th>\n",
       "      <th>city</th>\n",
       "      <th>bd</th>\n",
       "      <th>gender</th>\n",
       "      <th>registered_via</th>\n",
       "      <th>registration_init_time</th>\n",
       "    </tr>\n",
       "  </thead>\n",
       "  <tbody>\n",
       "    <tr>\n",
       "      <th>0</th>\n",
       "      <td>ugx0CjOMzazClkFzU2xasmDZaoIqOUAZPsH1q0teWCg=</td>\n",
       "      <td>1</td>\n",
       "      <td>5.0</td>\n",
       "      <td>28.0</td>\n",
       "      <td>male</td>\n",
       "      <td>3.0</td>\n",
       "      <td>20131223.0</td>\n",
       "    </tr>\n",
       "    <tr>\n",
       "      <th>1</th>\n",
       "      <td>f/NmvEzHfhINFEYZTR05prUdr+E+3+oewvweYz9cCQE=</td>\n",
       "      <td>1</td>\n",
       "      <td>13.0</td>\n",
       "      <td>20.0</td>\n",
       "      <td>male</td>\n",
       "      <td>3.0</td>\n",
       "      <td>20131223.0</td>\n",
       "    </tr>\n",
       "    <tr>\n",
       "      <th>2</th>\n",
       "      <td>zLo9f73nGGT1p21ltZC3ChiRnAVvgibMyazbCxvWPcg=</td>\n",
       "      <td>1</td>\n",
       "      <td>13.0</td>\n",
       "      <td>18.0</td>\n",
       "      <td>male</td>\n",
       "      <td>3.0</td>\n",
       "      <td>20131227.0</td>\n",
       "    </tr>\n",
       "    <tr>\n",
       "      <th>3</th>\n",
       "      <td>8iF/+8HY8lJKFrTc7iR9ZYGCG2Ecrogbc2Vy5YhsfhQ=</td>\n",
       "      <td>1</td>\n",
       "      <td>1.0</td>\n",
       "      <td>0.0</td>\n",
       "      <td>NaN</td>\n",
       "      <td>7.0</td>\n",
       "      <td>20140109.0</td>\n",
       "    </tr>\n",
       "    <tr>\n",
       "      <th>4</th>\n",
       "      <td>K6fja4+jmoZ5xG6BypqX80Uw/XKpMgrEMdG2edFOxnA=</td>\n",
       "      <td>1</td>\n",
       "      <td>13.0</td>\n",
       "      <td>35.0</td>\n",
       "      <td>female</td>\n",
       "      <td>7.0</td>\n",
       "      <td>20140125.0</td>\n",
       "    </tr>\n",
       "  </tbody>\n",
       "</table>\n",
       "</div>"
      ],
      "text/plain": [
       "                                           msno  is_churn  city    bd  gender  \\\n",
       "0  ugx0CjOMzazClkFzU2xasmDZaoIqOUAZPsH1q0teWCg=         1   5.0  28.0    male   \n",
       "1  f/NmvEzHfhINFEYZTR05prUdr+E+3+oewvweYz9cCQE=         1  13.0  20.0    male   \n",
       "2  zLo9f73nGGT1p21ltZC3ChiRnAVvgibMyazbCxvWPcg=         1  13.0  18.0    male   \n",
       "3  8iF/+8HY8lJKFrTc7iR9ZYGCG2Ecrogbc2Vy5YhsfhQ=         1   1.0   0.0     NaN   \n",
       "4  K6fja4+jmoZ5xG6BypqX80Uw/XKpMgrEMdG2edFOxnA=         1  13.0  35.0  female   \n",
       "\n",
       "   registered_via  registration_init_time  \n",
       "0             3.0              20131223.0  \n",
       "1             3.0              20131223.0  \n",
       "2             3.0              20131227.0  \n",
       "3             7.0              20140109.0  \n",
       "4             7.0              20140125.0  "
      ]
     },
     "execution_count": 4,
     "metadata": {},
     "output_type": "execute_result"
    }
   ],
   "source": [
    "train_merged.head()"
   ]
  },
  {
   "cell_type": "markdown",
   "metadata": {
    "nbpresent": {
     "id": "79cfb027-fd96-40b4-894f-f356fd136d45"
    }
   },
   "source": [
    "# 3. Clean Data & EDA"
   ]
  },
  {
   "cell_type": "markdown",
   "metadata": {
    "nbpresent": {
     "id": "b7ada2ed-0777-4791-a642-3a83c288b72a"
    }
   },
   "source": [
    "For each variable:\n",
    "* Check missing %"
   ]
  },
  {
   "cell_type": "code",
   "execution_count": 25,
   "metadata": {
    "nbpresent": {
     "id": "a868af2e-d287-4fb9-a02e-aee74c46caf8"
    }
   },
   "outputs": [
    {
     "name": "stdout",
     "output_type": "stream",
     "text": [
      "Percent Missing: \n"
     ]
    },
    {
     "data": {
      "text/plain": [
       "msno                       0.000000\n",
       "is_churn                   0.000000\n",
       "city                      11.328273\n",
       "bd                        11.328273\n",
       "gender                    59.946342\n",
       "registered_via            11.328273\n",
       "registration_init_time    11.328273\n",
       "dtype: float64"
      ]
     },
     "execution_count": 25,
     "metadata": {},
     "output_type": "execute_result"
    }
   ],
   "source": [
    "print(\"Percent Missing: \")\n",
    "train_merged.isnull().sum()/len(train_merged) * 100"
   ]
  },
  {
   "cell_type": "markdown",
   "metadata": {
    "nbpresent": {
     "id": "6ea0c1e4-8e3c-40e5-8f5a-0fbd9c0cec67"
    }
   },
   "source": [
    "* Look for outliers"
   ]
  },
  {
   "cell_type": "code",
   "execution_count": 6,
   "metadata": {
    "nbpresent": {
     "id": "7af8c6f3-64d9-47ba-a71b-7cd8b7005125"
    }
   },
   "outputs": [
    {
     "name": "stdout",
     "output_type": "stream",
     "text": [
      "            is_churn           city             bd  registered_via  \\\n",
      "count  970960.000000  860967.000000  860967.000000   860967.000000   \n",
      "mean        0.089942       5.937295      13.583854        6.892744   \n",
      "std         0.286099       6.441203      20.064040        1.937794   \n",
      "min         0.000000       1.000000   -3152.000000        3.000000   \n",
      "25%         0.000000       1.000000       0.000000        7.000000   \n",
      "50%         0.000000       1.000000       0.000000        7.000000   \n",
      "75%         0.000000      13.000000      27.000000        9.000000   \n",
      "max         1.000000      22.000000    2016.000000       13.000000   \n",
      "\n",
      "       registration_init_time  \n",
      "count            8.609670e+05  \n",
      "mean             2.013265e+07  \n",
      "std              3.011174e+04  \n",
      "min              2.004033e+07  \n",
      "25%              2.012021e+07  \n",
      "50%              2.014060e+07  \n",
      "75%              2.016012e+07  \n",
      "max              2.017042e+07  \n"
     ]
    }
   ],
   "source": [
    "print(train_merged.describe())"
   ]
  },
  {
   "cell_type": "markdown",
   "metadata": {
    "nbpresent": {
     "id": "b6d36ec6-fee3-4b98-a464-af2d7d25b19f"
    }
   },
   "source": [
    "Observations: \n",
    "* We can see that except for the target is_churn, every other column contains missing values. \n",
    "* The bd (i.e. age) column contains outliers on both ends - min age of -3152 and max age of 2016.  "
   ]
  },
  {
   "cell_type": "markdown",
   "metadata": {
    "nbpresent": {
     "id": "5e96c5e6-7d13-40a7-8043-758fcf2a901a"
    }
   },
   "source": [
    "Let's define a helper function. It will take in a dataframe as well as column name and output the frequency of each value of that column. "
   ]
  },
  {
   "cell_type": "code",
   "execution_count": 3,
   "metadata": {
    "nbpresent": {
     "id": "3d696125-7670-49e0-be96-673a2c1a31dc"
    }
   },
   "outputs": [],
   "source": [
    "def check_distribution(df,col):\n",
    "    counts = df[col].value_counts(dropna=False)\n",
    "    percentages = counts / len(df) * 100\n",
    "    df_percentages = pd.DataFrame({col:percentages.index.values,'count':counts.values,'percent':percentages.values})\n",
    "    return df_percentages"
   ]
  },
  {
   "cell_type": "markdown",
   "metadata": {
    "nbpresent": {
     "id": "9436a3b1-831c-43da-afa1-770c44e9146d"
    }
   },
   "source": [
    "## Target: is_churn"
   ]
  },
  {
   "cell_type": "code",
   "execution_count": 49,
   "metadata": {
    "nbpresent": {
     "id": "8556210b-31ea-4900-ae66-b5809e55df22"
    }
   },
   "outputs": [
    {
     "data": {
      "text/html": [
       "<div>\n",
       "<style scoped>\n",
       "    .dataframe tbody tr th:only-of-type {\n",
       "        vertical-align: middle;\n",
       "    }\n",
       "\n",
       "    .dataframe tbody tr th {\n",
       "        vertical-align: top;\n",
       "    }\n",
       "\n",
       "    .dataframe thead th {\n",
       "        text-align: right;\n",
       "    }\n",
       "</style>\n",
       "<table border=\"1\" class=\"dataframe\">\n",
       "  <thead>\n",
       "    <tr style=\"text-align: right;\">\n",
       "      <th></th>\n",
       "      <th>is_churn</th>\n",
       "      <th>count</th>\n",
       "      <th>percent</th>\n",
       "    </tr>\n",
       "  </thead>\n",
       "  <tbody>\n",
       "    <tr>\n",
       "      <th>0</th>\n",
       "      <td>0</td>\n",
       "      <td>883630</td>\n",
       "      <td>91.005809</td>\n",
       "    </tr>\n",
       "    <tr>\n",
       "      <th>1</th>\n",
       "      <td>1</td>\n",
       "      <td>87330</td>\n",
       "      <td>8.994191</td>\n",
       "    </tr>\n",
       "  </tbody>\n",
       "</table>\n",
       "</div>"
      ],
      "text/plain": [
       "   is_churn   count    percent\n",
       "0         0  883630  91.005809\n",
       "1         1   87330   8.994191"
      ]
     },
     "execution_count": 49,
     "metadata": {},
     "output_type": "execute_result"
    }
   ],
   "source": [
    "check_distribution(train_merged,'is_churn')"
   ]
  },
  {
   "cell_type": "markdown",
   "metadata": {
    "nbpresent": {
     "id": "6a7d3541-592e-4d9a-b9bb-6ae4a9bcea01"
    }
   },
   "source": [
    "The **churn rate** is only **9%**. That means the **baseline performance** based on the most prevalant class is **91%**. We will have to keep that in mind when evaluating the accuracy of our predictive models. "
   ]
  },
  {
   "cell_type": "markdown",
   "metadata": {
    "nbpresent": {
     "id": "cdd7365a-4710-4c04-998d-b25df8fa0e0d"
    }
   },
   "source": [
    "## Age"
   ]
  },
  {
   "cell_type": "markdown",
   "metadata": {
    "nbpresent": {
     "id": "5bff754b-b3ba-4546-a94d-d78423af32ab"
    }
   },
   "source": [
    "Since the age for typical subscription services is right around 13 years of age, we can create intelligent buckets to see if we have outliers. "
   ]
  },
  {
   "cell_type": "code",
   "execution_count": 28,
   "metadata": {
    "nbpresent": {
     "id": "8f80ee27-1264-4fe9-8d2d-91989fd9702e"
    },
    "scrolled": true
   },
   "outputs": [
    {
     "name": "stdout",
     "output_type": "stream",
     "text": [
      "Ages < 0 : 69\n",
      "Ages = 0 : 473729\n",
      "0 < Ages < 13 : 146\n",
      "13 <= Ages < 100 : 386558\n",
      "Ages > 100 : 465\n"
     ]
    }
   ],
   "source": [
    "print(\"Ages < 0 : {}\".format((train_merged.bd < 0).sum()))\n",
    "print(\"Ages = 0 : {}\".format((train_merged.bd == 0).sum()))\n",
    "print(\"0 < Ages < 13 : {}\".format(((train_merged.bd > 0)&(train_merged.bd < 13)).sum()))\n",
    "print(\"13 <= Ages < 100 : {}\".format(((train_merged.bd >= 13)&(train_merged.bd < 100)).sum()))\n",
    "print(\"Ages > 100 : {}\".format((train_merged.bd >= 100).sum()))"
   ]
  },
  {
   "cell_type": "markdown",
   "metadata": {
    "nbpresent": {
     "id": "bacae9bf-e31e-4866-80ba-ccb8cc3ae4a0"
    }
   },
   "source": [
    "AHA! We can see that there were some **sneaky missing values stored as 0**. Additionally, we have some unrealistic ages below zero as well as a few above 100. Let's cap age to (0,100] and treat everything else as missing.  "
   ]
  },
  {
   "cell_type": "code",
   "execution_count": 6,
   "metadata": {
    "nbpresent": {
     "id": "826195ad-49d5-4409-800b-09a80ef1aa6e"
    }
   },
   "outputs": [],
   "source": [
    "#cap age\n",
    "train_merged['bd'].mask(((train_merged.bd<=0)|(train_merged.bd>100)), other=np.NaN, inplace=True)"
   ]
  },
  {
   "cell_type": "code",
   "execution_count": 264,
   "metadata": {
    "nbpresent": {
     "id": "b58b8c5b-6f1f-49ca-9fe5-a19e1d6647b4"
    }
   },
   "outputs": [
    {
     "name": "stdout",
     "output_type": "stream",
     "text": [
      "Percent of age that is missing: 60%\n"
     ]
    }
   ],
   "source": [
    "print(\"Percent of age that is missing: {}%\".format(int(100 * train_merged.bd.isnull().sum()/len(train_merged))))"
   ]
  },
  {
   "cell_type": "code",
   "execution_count": 43,
   "metadata": {
    "nbpresent": {
     "id": "50248760-db9b-4cc3-ae01-325834919c22"
    },
    "scrolled": true
   },
   "outputs": [
    {
     "data": {
      "text/plain": [
       "Text(0.5, 1.0, 'Distribution of (cleaned) Age')"
      ]
     },
     "execution_count": 43,
     "metadata": {},
     "output_type": "execute_result"
    },
    {
     "data": {
      "image/png": "[encoded data removed]",
      "text/plain": [
       "<Figure size 432x288 with 1 Axes>"
      ]
     },
     "metadata": {
      "needs_background": "light"
     },
     "output_type": "display_data"
    }
   ],
   "source": [
    "train_merged.bd.hist()\n",
    "plt.title('Distribution of (cleaned) Age')"
   ]
  },
  {
   "cell_type": "markdown",
   "metadata": {
    "nbpresent": {
     "id": "a6d6cda4-2379-42a5-8579-ad6d33e485cd"
    }
   },
   "source": [
    "This looks like the typical right-skewed distribution of age that we expect where most of the users are under 40. We can further look at the target distribution between each age bucket to see if we are missing value by not targeting particular age groups."
   ]
  },
  {
   "cell_type": "code",
   "execution_count": 258,
   "metadata": {
    "nbpresent": {
     "id": "184961cf-45e6-49dc-b7e5-e38b83cf25d8"
    },
    "scrolled": false
   },
   "outputs": [
    {
     "data": {
      "image/png": "[encoded data removed]",
      "text/plain": [
       "<Figure size 432x288 with 1 Axes>"
      ]
     },
     "metadata": {
      "needs_background": "light"
     },
     "output_type": "display_data"
    }
   ],
   "source": [
    "age_crosstab = pd.crosstab(train_merged.bd,train_merged.is_churn)\n",
    "age_crosstab = age_crosstab.div(age_crosstab.sum(1), axis=0)\n",
    "ax = age_crosstab.plot(kind='bar', stacked=True)\n",
    "plt.xticks(ticks=np.arange(0,110,step=10), labels=np.arange(0,110,step=10)) # np.arange(0,110,step=10)\n",
    "vals = ax.get_yticks()\n",
    "ax.set_yticklabels(['{:,.2%}'.format(x) for x in vals])\n",
    "plt.show()"
   ]
  },
  {
   "cell_type": "markdown",
   "metadata": {
    "nbpresent": {
     "id": "962ab5a3-35d4-42c5-aed9-cc86c9424554"
    }
   },
   "source": [
    "From the stacked bar plot we can see that 10-24 year-old's churn a lot more than the rest of the population. Since they represent a large portion of the population, later we will dig into any bivariate interactions that might be present. This will help us understand how we can get more value from this particular customer segment. "
   ]
  },
  {
   "cell_type": "markdown",
   "metadata": {
    "nbpresent": {
     "id": "6ca84c3d-b8d7-401e-b9ba-0db0603aa478"
    }
   },
   "source": [
    "Note: there is noise at the edges of the bar plot because we have such few observations in those particular age buckets. "
   ]
  },
  {
   "cell_type": "markdown",
   "metadata": {
    "nbpresent": {
     "id": "3c69c16c-8aed-4def-995c-6c6b4347deb3"
    }
   },
   "source": [
    "## Gender"
   ]
  },
  {
   "cell_type": "code",
   "execution_count": 96,
   "metadata": {
    "nbpresent": {
     "id": "c0c967f6-58a5-4418-a0b5-0a773640b278"
    }
   },
   "outputs": [
    {
     "data": {
      "text/html": [
       "<div>\n",
       "<style scoped>\n",
       "    .dataframe tbody tr th:only-of-type {\n",
       "        vertical-align: middle;\n",
       "    }\n",
       "\n",
       "    .dataframe tbody tr th {\n",
       "        vertical-align: top;\n",
       "    }\n",
       "\n",
       "    .dataframe thead th {\n",
       "        text-align: right;\n",
       "    }\n",
       "</style>\n",
       "<table border=\"1\" class=\"dataframe\">\n",
       "  <thead>\n",
       "    <tr style=\"text-align: right;\">\n",
       "      <th></th>\n",
       "      <th>gender</th>\n",
       "      <th>count</th>\n",
       "      <th>percent</th>\n",
       "    </tr>\n",
       "  </thead>\n",
       "  <tbody>\n",
       "    <tr>\n",
       "      <th>0</th>\n",
       "      <td>NaN</td>\n",
       "      <td>582055</td>\n",
       "      <td>59.946342</td>\n",
       "    </tr>\n",
       "    <tr>\n",
       "      <th>1</th>\n",
       "      <td>male</td>\n",
       "      <td>204561</td>\n",
       "      <td>21.067912</td>\n",
       "    </tr>\n",
       "    <tr>\n",
       "      <th>2</th>\n",
       "      <td>female</td>\n",
       "      <td>184344</td>\n",
       "      <td>18.985746</td>\n",
       "    </tr>\n",
       "  </tbody>\n",
       "</table>\n",
       "</div>"
      ],
      "text/plain": [
       "   gender   count    percent\n",
       "0     NaN  582055  59.946342\n",
       "1    male  204561  21.067912\n",
       "2  female  184344  18.985746"
      ]
     },
     "execution_count": 96,
     "metadata": {},
     "output_type": "execute_result"
    }
   ],
   "source": [
    "check_distribution(train_merged,'gender')"
   ]
  },
  {
   "cell_type": "markdown",
   "metadata": {
    "nbpresent": {
     "id": "f8edc11d-dd1f-4cfa-bc56-2dedf6b06dd1"
    }
   },
   "source": [
    "A majority of the gender is missing but there don't seem to be any outlier values that we need to deal with. Since over half the values are missing, we can't simply drop values. Either we can impute or simply **use tree based algorithms** that can treat NaN as a special value."
   ]
  },
  {
   "cell_type": "markdown",
   "metadata": {
    "nbpresent": {
     "id": "f6676d13-a500-4dc3-a2b3-ec146ac92983"
    }
   },
   "source": [
    "Let's check to see if there are different churn rates for each gender."
   ]
  },
  {
   "cell_type": "code",
   "execution_count": 218,
   "metadata": {
    "nbpresent": {
     "id": "284e1115-23d3-4fb5-92fc-1831233668fa"
    }
   },
   "outputs": [
    {
     "data": {
      "image/png": "[encoded data removed]",
      "text/plain": [
       "<Figure size 432x288 with 1 Axes>"
      ]
     },
     "metadata": {
      "needs_background": "light"
     },
     "output_type": "display_data"
    }
   ],
   "source": [
    "gender_crosstab = pd.crosstab(train_merged.gender.fillna('missing'),train_merged.is_churn, dropna=False)\n",
    "gender_crosstab = gender_crosstab.div(gender_crosstab.sum(1), axis=0)\n",
    "ax = gender_crosstab.plot(kind='bar', stacked=True)\n",
    "vals = ax.get_yticks()\n",
    "ax.set_yticklabels(['{:,.2%}'.format(x) for x in vals])\n",
    "plt.show()"
   ]
  },
  {
   "cell_type": "code",
   "execution_count": 137,
   "metadata": {
    "nbpresent": {
     "id": "23ac1e27-2cb3-4d51-b18f-e824e0f9653b"
    }
   },
   "outputs": [
    {
     "data": {
      "text/html": [
       "<div>\n",
       "<style scoped>\n",
       "    .dataframe tbody tr th:only-of-type {\n",
       "        vertical-align: middle;\n",
       "    }\n",
       "\n",
       "    .dataframe tbody tr th {\n",
       "        vertical-align: top;\n",
       "    }\n",
       "\n",
       "    .dataframe thead th {\n",
       "        text-align: right;\n",
       "    }\n",
       "</style>\n",
       "<table border=\"1\" class=\"dataframe\">\n",
       "  <thead>\n",
       "    <tr style=\"text-align: right;\">\n",
       "      <th>is_churn</th>\n",
       "      <th>0</th>\n",
       "      <th>1</th>\n",
       "    </tr>\n",
       "    <tr>\n",
       "      <th>gender</th>\n",
       "      <th></th>\n",
       "      <th></th>\n",
       "    </tr>\n",
       "  </thead>\n",
       "  <tbody>\n",
       "    <tr>\n",
       "      <th>female</th>\n",
       "      <td>0.870134</td>\n",
       "      <td>0.129866</td>\n",
       "    </tr>\n",
       "    <tr>\n",
       "      <th>male</th>\n",
       "      <td>0.870963</td>\n",
       "      <td>0.129037</td>\n",
       "    </tr>\n",
       "    <tr>\n",
       "      <th>missing</th>\n",
       "      <td>0.936442</td>\n",
       "      <td>0.063558</td>\n",
       "    </tr>\n",
       "  </tbody>\n",
       "</table>\n",
       "</div>"
      ],
      "text/plain": [
       "is_churn         0         1\n",
       "gender                      \n",
       "female    0.870134  0.129866\n",
       "male      0.870963  0.129037\n",
       "missing   0.936442  0.063558"
      ]
     },
     "execution_count": 137,
     "metadata": {},
     "output_type": "execute_result"
    }
   ],
   "source": [
    "gender_crosstab"
   ]
  },
  {
   "cell_type": "markdown",
   "metadata": {
    "nbpresent": {
     "id": "568bac77-49ec-42b1-a5ce-76d92c1c81eb"
    }
   },
   "source": [
    "Both genders have a churn rate of 13%. The group with gender missing has a characteristically lower churn rate of 6.4%."
   ]
  },
  {
   "cell_type": "markdown",
   "metadata": {
    "nbpresent": {
     "id": "144a4ca4-f839-4bfb-9a86-42fe336f7739"
    }
   },
   "source": [
    "## City"
   ]
  },
  {
   "cell_type": "code",
   "execution_count": 134,
   "metadata": {
    "nbpresent": {
     "id": "a84d3d04-1693-4392-9a8a-27bb7371e18c"
    },
    "scrolled": true
   },
   "outputs": [
    {
     "data": {
      "text/html": [
       "<div>\n",
       "<style scoped>\n",
       "    .dataframe tbody tr th:only-of-type {\n",
       "        vertical-align: middle;\n",
       "    }\n",
       "\n",
       "    .dataframe tbody tr th {\n",
       "        vertical-align: top;\n",
       "    }\n",
       "\n",
       "    .dataframe thead th {\n",
       "        text-align: right;\n",
       "    }\n",
       "</style>\n",
       "<table border=\"1\" class=\"dataframe\">\n",
       "  <thead>\n",
       "    <tr style=\"text-align: right;\">\n",
       "      <th></th>\n",
       "      <th>city</th>\n",
       "      <th>count</th>\n",
       "      <th>percent</th>\n",
       "    </tr>\n",
       "  </thead>\n",
       "  <tbody>\n",
       "    <tr>\n",
       "      <th>0</th>\n",
       "      <td>1.0</td>\n",
       "      <td>442598</td>\n",
       "      <td>45.583546</td>\n",
       "    </tr>\n",
       "    <tr>\n",
       "      <th>1</th>\n",
       "      <td>NaN</td>\n",
       "      <td>109993</td>\n",
       "      <td>11.328273</td>\n",
       "    </tr>\n",
       "    <tr>\n",
       "      <th>2</th>\n",
       "      <td>13.0</td>\n",
       "      <td>97136</td>\n",
       "      <td>10.004120</td>\n",
       "    </tr>\n",
       "    <tr>\n",
       "      <th>3</th>\n",
       "      <td>5.0</td>\n",
       "      <td>70706</td>\n",
       "      <td>7.282071</td>\n",
       "    </tr>\n",
       "    <tr>\n",
       "      <th>4</th>\n",
       "      <td>4.0</td>\n",
       "      <td>47227</td>\n",
       "      <td>4.863949</td>\n",
       "    </tr>\n",
       "    <tr>\n",
       "      <th>5</th>\n",
       "      <td>15.0</td>\n",
       "      <td>43187</td>\n",
       "      <td>4.447866</td>\n",
       "    </tr>\n",
       "    <tr>\n",
       "      <th>6</th>\n",
       "      <td>22.0</td>\n",
       "      <td>41991</td>\n",
       "      <td>4.324689</td>\n",
       "    </tr>\n",
       "    <tr>\n",
       "      <th>7</th>\n",
       "      <td>6.0</td>\n",
       "      <td>26066</td>\n",
       "      <td>2.684560</td>\n",
       "    </tr>\n",
       "    <tr>\n",
       "      <th>8</th>\n",
       "      <td>14.0</td>\n",
       "      <td>20013</td>\n",
       "      <td>2.061156</td>\n",
       "    </tr>\n",
       "    <tr>\n",
       "      <th>9</th>\n",
       "      <td>12.0</td>\n",
       "      <td>11383</td>\n",
       "      <td>1.172345</td>\n",
       "    </tr>\n",
       "    <tr>\n",
       "      <th>10</th>\n",
       "      <td>9.0</td>\n",
       "      <td>9526</td>\n",
       "      <td>0.981091</td>\n",
       "    </tr>\n",
       "    <tr>\n",
       "      <th>11</th>\n",
       "      <td>11.0</td>\n",
       "      <td>9138</td>\n",
       "      <td>0.941130</td>\n",
       "    </tr>\n",
       "    <tr>\n",
       "      <th>12</th>\n",
       "      <td>18.0</td>\n",
       "      <td>7792</td>\n",
       "      <td>0.802505</td>\n",
       "    </tr>\n",
       "    <tr>\n",
       "      <th>13</th>\n",
       "      <td>8.0</td>\n",
       "      <td>7589</td>\n",
       "      <td>0.781598</td>\n",
       "    </tr>\n",
       "    <tr>\n",
       "      <th>14</th>\n",
       "      <td>10.0</td>\n",
       "      <td>6470</td>\n",
       "      <td>0.666351</td>\n",
       "    </tr>\n",
       "    <tr>\n",
       "      <th>15</th>\n",
       "      <td>17.0</td>\n",
       "      <td>5476</td>\n",
       "      <td>0.563978</td>\n",
       "    </tr>\n",
       "    <tr>\n",
       "      <th>16</th>\n",
       "      <td>21.0</td>\n",
       "      <td>5199</td>\n",
       "      <td>0.535449</td>\n",
       "    </tr>\n",
       "    <tr>\n",
       "      <th>17</th>\n",
       "      <td>3.0</td>\n",
       "      <td>5057</td>\n",
       "      <td>0.520825</td>\n",
       "    </tr>\n",
       "    <tr>\n",
       "      <th>18</th>\n",
       "      <td>7.0</td>\n",
       "      <td>2652</td>\n",
       "      <td>0.273132</td>\n",
       "    </tr>\n",
       "    <tr>\n",
       "      <th>19</th>\n",
       "      <td>16.0</td>\n",
       "      <td>944</td>\n",
       "      <td>0.097223</td>\n",
       "    </tr>\n",
       "    <tr>\n",
       "      <th>20</th>\n",
       "      <td>20.0</td>\n",
       "      <td>677</td>\n",
       "      <td>0.069725</td>\n",
       "    </tr>\n",
       "    <tr>\n",
       "      <th>21</th>\n",
       "      <td>19.0</td>\n",
       "      <td>140</td>\n",
       "      <td>0.014419</td>\n",
       "    </tr>\n",
       "  </tbody>\n",
       "</table>\n",
       "</div>"
      ],
      "text/plain": [
       "    city   count    percent\n",
       "0    1.0  442598  45.583546\n",
       "1    NaN  109993  11.328273\n",
       "2   13.0   97136  10.004120\n",
       "3    5.0   70706   7.282071\n",
       "4    4.0   47227   4.863949\n",
       "5   15.0   43187   4.447866\n",
       "6   22.0   41991   4.324689\n",
       "7    6.0   26066   2.684560\n",
       "8   14.0   20013   2.061156\n",
       "9   12.0   11383   1.172345\n",
       "10   9.0    9526   0.981091\n",
       "11  11.0    9138   0.941130\n",
       "12  18.0    7792   0.802505\n",
       "13   8.0    7589   0.781598\n",
       "14  10.0    6470   0.666351\n",
       "15  17.0    5476   0.563978\n",
       "16  21.0    5199   0.535449\n",
       "17   3.0    5057   0.520825\n",
       "18   7.0    2652   0.273132\n",
       "19  16.0     944   0.097223\n",
       "20  20.0     677   0.069725\n",
       "21  19.0     140   0.014419"
      ]
     },
     "execution_count": 134,
     "metadata": {},
     "output_type": "execute_result"
    }
   ],
   "source": [
    "check_distribution(train_merged,'city')"
   ]
  },
  {
   "cell_type": "markdown",
   "metadata": {
    "nbpresent": {
     "id": "61466021-215e-449f-baa4-55ce2bbe11a6"
    }
   },
   "source": [
    "**11%** of the values are **missing** for the city variable. It looks like  most of the customers come from city 1. "
   ]
  },
  {
   "cell_type": "code",
   "execution_count": 217,
   "metadata": {
    "nbpresent": {
     "id": "d68bd64e-0227-4a73-b1a6-66cec574b9e4"
    }
   },
   "outputs": [
    {
     "data": {
      "image/png": "[encoded data removed]",
      "text/plain": [
       "<Figure size 432x288 with 1 Axes>"
      ]
     },
     "metadata": {
      "needs_background": "light"
     },
     "output_type": "display_data"
    }
   ],
   "source": [
    "city_crosstab = pd.crosstab(train_merged.city.fillna('missing'),train_merged.is_churn, dropna=False)\n",
    "city_crosstab = city_crosstab.div(city_crosstab.sum(1), axis=0)\n",
    "ax = city_crosstab.plot(kind='bar', stacked=True)\n",
    "vals = ax.get_yticks()\n",
    "ax.set_yticklabels(['{:,.2%}'.format(x) for x in vals])\n",
    "plt.show()"
   ]
  },
  {
   "cell_type": "markdown",
   "metadata": {
    "nbpresent": {
     "id": "c3fb41dd-77be-452e-a8a7-91f6fc54084b"
    }
   },
   "source": [
    "Most of the cities have very similar churn rates. "
   ]
  },
  {
   "cell_type": "markdown",
   "metadata": {
    "nbpresent": {
     "id": "12e725cd-233d-41da-aa7a-f794cc4b4f68"
    }
   },
   "source": [
    "## Registration_via"
   ]
  },
  {
   "cell_type": "code",
   "execution_count": 141,
   "metadata": {
    "nbpresent": {
     "id": "98f462e9-0612-4a25-85d0-5f33254ce850"
    }
   },
   "outputs": [
    {
     "data": {
      "text/html": [
       "<div>\n",
       "<style scoped>\n",
       "    .dataframe tbody tr th:only-of-type {\n",
       "        vertical-align: middle;\n",
       "    }\n",
       "\n",
       "    .dataframe tbody tr th {\n",
       "        vertical-align: top;\n",
       "    }\n",
       "\n",
       "    .dataframe thead th {\n",
       "        text-align: right;\n",
       "    }\n",
       "</style>\n",
       "<table border=\"1\" class=\"dataframe\">\n",
       "  <thead>\n",
       "    <tr style=\"text-align: right;\">\n",
       "      <th></th>\n",
       "      <th>registered_via</th>\n",
       "      <th>count</th>\n",
       "      <th>percent</th>\n",
       "    </tr>\n",
       "  </thead>\n",
       "  <tbody>\n",
       "    <tr>\n",
       "      <th>0</th>\n",
       "      <td>7.0</td>\n",
       "      <td>462684</td>\n",
       "      <td>47.652220</td>\n",
       "    </tr>\n",
       "    <tr>\n",
       "      <th>1</th>\n",
       "      <td>9.0</td>\n",
       "      <td>235689</td>\n",
       "      <td>24.273811</td>\n",
       "    </tr>\n",
       "    <tr>\n",
       "      <th>2</th>\n",
       "      <td>NaN</td>\n",
       "      <td>109993</td>\n",
       "      <td>11.328273</td>\n",
       "    </tr>\n",
       "    <tr>\n",
       "      <th>3</th>\n",
       "      <td>3.0</td>\n",
       "      <td>106459</td>\n",
       "      <td>10.964303</td>\n",
       "    </tr>\n",
       "    <tr>\n",
       "      <th>4</th>\n",
       "      <td>4.0</td>\n",
       "      <td>52744</td>\n",
       "      <td>5.432150</td>\n",
       "    </tr>\n",
       "    <tr>\n",
       "      <th>5</th>\n",
       "      <td>13.0</td>\n",
       "      <td>3391</td>\n",
       "      <td>0.349242</td>\n",
       "    </tr>\n",
       "  </tbody>\n",
       "</table>\n",
       "</div>"
      ],
      "text/plain": [
       "   registered_via   count    percent\n",
       "0             7.0  462684  47.652220\n",
       "1             9.0  235689  24.273811\n",
       "2             NaN  109993  11.328273\n",
       "3             3.0  106459  10.964303\n",
       "4             4.0   52744   5.432150\n",
       "5            13.0    3391   0.349242"
      ]
     },
     "execution_count": 141,
     "metadata": {},
     "output_type": "execute_result"
    }
   ],
   "source": [
    "check_distribution(train_merged,'registered_via')"
   ]
  },
  {
   "cell_type": "code",
   "execution_count": 216,
   "metadata": {
    "nbpresent": {
     "id": "a7696535-83c4-4ed2-a310-f2590844c360"
    }
   },
   "outputs": [
    {
     "data": {
      "image/png": "[encoded data removed]",
      "text/plain": [
       "<Figure size 432x288 with 1 Axes>"
      ]
     },
     "metadata": {
      "needs_background": "light"
     },
     "output_type": "display_data"
    }
   ],
   "source": [
    "registration_crosstab = pd.crosstab(train_merged.registered_via.fillna('missing'),train_merged.is_churn, dropna=False)\n",
    "registration_crosstab = registration_crosstab.div(registration_crosstab.sum(1), axis=0)\n",
    "ax = registration_crosstab.plot(kind='bar', stacked=True)\n",
    "vals = ax.get_yticks()\n",
    "ax.set_yticklabels(['{:,.2%}'.format(x) for x in vals])\n",
    "plt.show()"
   ]
  },
  {
   "cell_type": "code",
   "execution_count": 143,
   "metadata": {
    "nbpresent": {
     "id": "249047c3-2c90-444e-a44d-4e586864178f"
    }
   },
   "outputs": [
    {
     "data": {
      "text/html": [
       "<div>\n",
       "<style scoped>\n",
       "    .dataframe tbody tr th:only-of-type {\n",
       "        vertical-align: middle;\n",
       "    }\n",
       "\n",
       "    .dataframe tbody tr th {\n",
       "        vertical-align: top;\n",
       "    }\n",
       "\n",
       "    .dataframe thead th {\n",
       "        text-align: right;\n",
       "    }\n",
       "</style>\n",
       "<table border=\"1\" class=\"dataframe\">\n",
       "  <thead>\n",
       "    <tr style=\"text-align: right;\">\n",
       "      <th>is_churn</th>\n",
       "      <th>0</th>\n",
       "      <th>1</th>\n",
       "    </tr>\n",
       "    <tr>\n",
       "      <th>registered_via</th>\n",
       "      <th></th>\n",
       "      <th></th>\n",
       "    </tr>\n",
       "  </thead>\n",
       "  <tbody>\n",
       "    <tr>\n",
       "      <th>3.0</th>\n",
       "      <td>0.827746</td>\n",
       "      <td>0.172254</td>\n",
       "    </tr>\n",
       "    <tr>\n",
       "      <th>4.0</th>\n",
       "      <td>0.768978</td>\n",
       "      <td>0.231022</td>\n",
       "    </tr>\n",
       "    <tr>\n",
       "      <th>7.0</th>\n",
       "      <td>0.955268</td>\n",
       "      <td>0.044732</td>\n",
       "    </tr>\n",
       "    <tr>\n",
       "      <th>9.0</th>\n",
       "      <td>0.873168</td>\n",
       "      <td>0.126832</td>\n",
       "    </tr>\n",
       "    <tr>\n",
       "      <th>13.0</th>\n",
       "      <td>0.901209</td>\n",
       "      <td>0.098791</td>\n",
       "    </tr>\n",
       "    <tr>\n",
       "      <th>missing</th>\n",
       "      <td>0.946524</td>\n",
       "      <td>0.053476</td>\n",
       "    </tr>\n",
       "  </tbody>\n",
       "</table>\n",
       "</div>"
      ],
      "text/plain": [
       "is_churn               0         1\n",
       "registered_via                    \n",
       "3.0             0.827746  0.172254\n",
       "4.0             0.768978  0.231022\n",
       "7.0             0.955268  0.044732\n",
       "9.0             0.873168  0.126832\n",
       "13.0            0.901209  0.098791\n",
       "missing         0.946524  0.053476"
      ]
     },
     "execution_count": 143,
     "metadata": {},
     "output_type": "execute_result"
    }
   ],
   "source": [
    "registration_crosstab"
   ]
  },
  {
   "cell_type": "markdown",
   "metadata": {
    "nbpresent": {
     "id": "44c10faf-a235-4767-b5de-cc1c3603dd48"
    }
   },
   "source": [
    "Since we don't know what the numerical codes mean, the best insight we can derive is that we need to focus on registration_via = 4 to see why we have such a high churn rate for that category."
   ]
  },
  {
   "cell_type": "markdown",
   "metadata": {
    "nbpresent": {
     "id": "c4da313e-92d2-4a71-b483-be4225eda31d"
    }
   },
   "source": [
    "## Registration_init_time"
   ]
  },
  {
   "cell_type": "code",
   "execution_count": 7,
   "metadata": {
    "nbpresent": {
     "id": "60d66426-470f-4aae-a0f5-0eb1cecda0de"
    }
   },
   "outputs": [],
   "source": [
    "# convert from int to datetime\n",
    "train_merged['registration_init_time'] = train_merged['registration_init_time'].apply(lambda x: pd.to_datetime(x,format=\"%Y%m%d\"))"
   ]
  },
  {
   "cell_type": "markdown",
   "metadata": {
    "nbpresent": {
     "id": "223c0826-6a7a-4d27-8b60-40d3c2410c2b"
    }
   },
   "source": [
    "Let's do some **feature engineering** and create a variable called **days_since_registration**. It will the number of days between the date the records were pulled (04/30/2017) and the registration date."
   ]
  },
  {
   "cell_type": "code",
   "execution_count": 8,
   "metadata": {
    "nbpresent": {
     "id": "b8266938-d65a-49d9-b506-f0021d529f88"
    }
   },
   "outputs": [],
   "source": [
    "timedelta = pd.to_datetime(20170430,format=\"%Y%m%d\") - train_merged.registration_init_time\n",
    "train_merged['days_since_registration'] = [item.days for item in timedelta]\n",
    "train_merged['months_since_registration'] = train_merged.days_since_registration / 30\n",
    "train_merged['years_since_registration'] = train_merged.days_since_registration / 365"
   ]
  },
  {
   "cell_type": "code",
   "execution_count": 212,
   "metadata": {
    "nbpresent": {
     "id": "5a5670af-ed63-45f4-8727-4e336a80ba6a"
    },
    "scrolled": true
   },
   "outputs": [
    {
     "data": {
      "text/plain": [
       "Text(0.5, 0, 'Years Since Registration')"
      ]
     },
     "execution_count": 212,
     "metadata": {},
     "output_type": "execute_result"
    },
    {
     "data": {
      "image/png": "[encoded data removed]",
      "text/plain": [
       "<Figure size 432x288 with 1 Axes>"
      ]
     },
     "metadata": {
      "needs_background": "light"
     },
     "output_type": "display_data"
    }
   ],
   "source": [
    "train_merged.years_since_registration.hist()\n",
    "plt.xlabel('Years Since Registration')"
   ]
  },
  {
   "cell_type": "code",
   "execution_count": 8,
   "metadata": {
    "nbpresent": {
     "id": "23392d3a-7d38-48dc-820b-08997406d4ee"
    }
   },
   "outputs": [],
   "source": [
    "bins = range(0,int(max(train_merged.years_since_registration)))\n",
    "train_merged['years_since_reg_bin'] = pd.cut(train_merged.years_since_registration.fillna(-1), bins=bins)"
   ]
  },
  {
   "cell_type": "code",
   "execution_count": 252,
   "metadata": {
    "nbpresent": {
     "id": "05fa3ef4-53a2-419b-b41f-947662d563ee"
    }
   },
   "outputs": [
    {
     "data": {
      "image/png": "[encoded data removed]",
      "text/plain": [
       "<Figure size 432x288 with 1 Axes>"
      ]
     },
     "metadata": {
      "needs_background": "light"
     },
     "output_type": "display_data"
    }
   ],
   "source": [
    "registration_crosstab = pd.crosstab(train_merged.years_since_reg_bin,train_merged.is_churn, dropna=False)\n",
    "registration_crosstab = registration_crosstab.div(registration_crosstab.sum(1), axis=0)\n",
    "ax = registration_crosstab.plot(kind='bar', stacked=True)\n",
    "plt.xlabel('Years Since Registration (binned)')\n",
    "vals = ax.get_yticks()\n",
    "ax.set_yticklabels(['{:,.2%}'.format(x) for x in vals])\n",
    "plt.show()"
   ]
  },
  {
   "cell_type": "markdown",
   "metadata": {
    "nbpresent": {
     "id": "573baf14-04ed-4d68-b4cf-c56b95b83ecd"
    }
   },
   "source": [
    "There is no clear trend in the churn rate at the yearly level. Since this is a monthly subscription service, it makes sense to dive deeper to the monthly churn rate since registration."
   ]
  },
  {
   "cell_type": "code",
   "execution_count": 9,
   "metadata": {
    "nbpresent": {
     "id": "58b016d9-4319-438b-971c-b0698ecf571a"
    }
   },
   "outputs": [],
   "source": [
    "bins = range(0,int(max(train_merged.months_since_registration)))\n",
    "train_merged['months_since_reg_bin'] = pd.cut(train_merged.months_since_registration.fillna(-1), bins=bins)"
   ]
  },
  {
   "cell_type": "code",
   "execution_count": 254,
   "metadata": {
    "nbpresent": {
     "id": "614e76eb-dec2-4292-9622-16579f8b2f42"
    },
    "scrolled": true
   },
   "outputs": [
    {
     "data": {
      "image/png": "[encoded data removed]",
      "text/plain": [
       "<Figure size 432x288 with 1 Axes>"
      ]
     },
     "metadata": {
      "needs_background": "light"
     },
     "output_type": "display_data"
    }
   ],
   "source": [
    "registration_crosstab = pd.crosstab(train_merged.months_since_reg_bin,train_merged.is_churn, dropna=False)\n",
    "registration_crosstab = registration_crosstab.div(registration_crosstab.sum(1), axis=0)\n",
    "ax = registration_crosstab.plot(kind='bar', stacked=True)\n",
    "ax.set_xticklabels(ax.get_xticklabels()[::11])\n",
    "ax.set_xticks(ax.get_xticks()[::11])\n",
    "plt.xlabel('Months Since Registration (binned)')\n",
    "vals = ax.get_yticks()\n",
    "ax.set_yticklabels(['{:,.2%}'.format(x) for x in vals])\n",
    "plt.show()"
   ]
  },
  {
   "cell_type": "code",
   "execution_count": 251,
   "metadata": {
    "nbpresent": {
     "id": "101bbf24-9b8c-4f72-b980-30c16ba00efd"
    }
   },
   "outputs": [
    {
     "data": {
      "text/html": [
       "<div>\n",
       "<style scoped>\n",
       "    .dataframe tbody tr th:only-of-type {\n",
       "        vertical-align: middle;\n",
       "    }\n",
       "\n",
       "    .dataframe tbody tr th {\n",
       "        vertical-align: top;\n",
       "    }\n",
       "\n",
       "    .dataframe thead th {\n",
       "        text-align: right;\n",
       "    }\n",
       "</style>\n",
       "<table border=\"1\" class=\"dataframe\">\n",
       "  <thead>\n",
       "    <tr style=\"text-align: right;\">\n",
       "      <th>is_churn</th>\n",
       "      <th>0</th>\n",
       "      <th>1</th>\n",
       "    </tr>\n",
       "    <tr>\n",
       "      <th>months_since_reg_bin</th>\n",
       "      <th></th>\n",
       "      <th></th>\n",
       "    </tr>\n",
       "  </thead>\n",
       "  <tbody>\n",
       "    <tr>\n",
       "      <th>(0, 1]</th>\n",
       "      <td>1.000000</td>\n",
       "      <td>0.000000</td>\n",
       "    </tr>\n",
       "    <tr>\n",
       "      <th>(1, 2]</th>\n",
       "      <td>0.513823</td>\n",
       "      <td>0.486177</td>\n",
       "    </tr>\n",
       "    <tr>\n",
       "      <th>(2, 3]</th>\n",
       "      <td>0.891644</td>\n",
       "      <td>0.108356</td>\n",
       "    </tr>\n",
       "    <tr>\n",
       "      <th>(3, 4]</th>\n",
       "      <td>0.903808</td>\n",
       "      <td>0.096192</td>\n",
       "    </tr>\n",
       "    <tr>\n",
       "      <th>(4, 5]</th>\n",
       "      <td>0.911775</td>\n",
       "      <td>0.088225</td>\n",
       "    </tr>\n",
       "    <tr>\n",
       "      <th>(5, 6]</th>\n",
       "      <td>0.926267</td>\n",
       "      <td>0.073733</td>\n",
       "    </tr>\n",
       "    <tr>\n",
       "      <th>(6, 7]</th>\n",
       "      <td>0.921051</td>\n",
       "      <td>0.078949</td>\n",
       "    </tr>\n",
       "    <tr>\n",
       "      <th>(7, 8]</th>\n",
       "      <td>0.899379</td>\n",
       "      <td>0.100621</td>\n",
       "    </tr>\n",
       "    <tr>\n",
       "      <th>(8, 9]</th>\n",
       "      <td>0.924297</td>\n",
       "      <td>0.075703</td>\n",
       "    </tr>\n",
       "    <tr>\n",
       "      <th>(9, 10]</th>\n",
       "      <td>0.941706</td>\n",
       "      <td>0.058294</td>\n",
       "    </tr>\n",
       "    <tr>\n",
       "      <th>(10, 11]</th>\n",
       "      <td>0.940047</td>\n",
       "      <td>0.059953</td>\n",
       "    </tr>\n",
       "    <tr>\n",
       "      <th>(11, 12]</th>\n",
       "      <td>0.933992</td>\n",
       "      <td>0.066008</td>\n",
       "    </tr>\n",
       "  </tbody>\n",
       "</table>\n",
       "</div>"
      ],
      "text/plain": [
       "is_churn                     0         1\n",
       "months_since_reg_bin                    \n",
       "(0, 1]                1.000000  0.000000\n",
       "(1, 2]                0.513823  0.486177\n",
       "(2, 3]                0.891644  0.108356\n",
       "(3, 4]                0.903808  0.096192\n",
       "(4, 5]                0.911775  0.088225\n",
       "(5, 6]                0.926267  0.073733\n",
       "(6, 7]                0.921051  0.078949\n",
       "(7, 8]                0.899379  0.100621\n",
       "(8, 9]                0.924297  0.075703\n",
       "(9, 10]               0.941706  0.058294\n",
       "(10, 11]              0.940047  0.059953\n",
       "(11, 12]              0.933992  0.066008"
      ]
     },
     "execution_count": 251,
     "metadata": {},
     "output_type": "execute_result"
    }
   ],
   "source": [
    "registration_crosstab.head(n=12)"
   ]
  },
  {
   "cell_type": "markdown",
   "metadata": {
    "nbpresent": {
     "id": "b679e8fb-0d99-4f9d-acaa-f69058b8f292"
    }
   },
   "source": [
    "Nobody churns in the first 30 days since the subscription lasts 30 days. **50% of the users churn after the first month**. After that, the churn rate drops off dramaticaly.  "
   ]
  },
  {
   "cell_type": "markdown",
   "metadata": {
    "nbpresent": {
     "id": "6a8b9505-4559-4dd2-a873-8cbf3e6c0a23"
    }
   },
   "source": [
    "# 4. Build Predictive Model"
   ]
  },
  {
   "cell_type": "code",
   "execution_count": 3,
   "metadata": {
    "nbpresent": {
     "id": "be83d5f3-8aee-483e-a29a-8be084c9d492"
    }
   },
   "outputs": [],
   "source": [
    "from sklearn.linear_model import LogisticRegression"
   ]
  },
  {
   "cell_type": "code",
   "execution_count": 10,
   "metadata": {
    "nbpresent": {
     "id": "379b4e11-5513-4ef0-a7ef-bb478b810e8f"
    },
    "scrolled": true
   },
   "outputs": [
    {
     "data": {
      "text/plain": [
       "msno                                 object\n",
       "is_churn                              int64\n",
       "city                                float64\n",
       "bd                                  float64\n",
       "gender                               object\n",
       "registered_via                      float64\n",
       "registration_init_time       datetime64[ns]\n",
       "days_since_registration             float64\n",
       "months_since_registration           float64\n",
       "years_since_registration            float64\n",
       "years_since_reg_bin                category\n",
       "months_since_reg_bin               category\n",
       "dtype: object"
      ]
     },
     "execution_count": 10,
     "metadata": {},
     "output_type": "execute_result"
    }
   ],
   "source": [
    "train_merged.dtypes"
   ]
  },
  {
   "cell_type": "markdown",
   "metadata": {
    "nbpresent": {
     "id": "69d91188-f365-40b5-ba47-fb44e32a43fa"
    }
   },
   "source": [
    "We need to change the data type for city, gender and registered_via into category from float64 since moving from one level to the next has no inherent concept of distance - which is what having a float value would imply."
   ]
  },
  {
   "cell_type": "code",
   "execution_count": 11,
   "metadata": {
    "nbpresent": {
     "id": "cd81e28e-4573-494f-ab06-b09c277df46b"
    },
    "scrolled": true
   },
   "outputs": [],
   "source": [
    "train_merged['city'] = train_merged.city.fillna('missing')\n",
    "train_merged['gender'] = train_merged.gender.fillna('missing')\n",
    "train_merged['registered_via'] = train_merged.registered_via.fillna('missing').astype(int,errors='ignore')"
   ]
  },
  {
   "cell_type": "code",
   "execution_count": 12,
   "metadata": {
    "nbpresent": {
     "id": "f75441b4-6102-41b5-a6e3-27e91b0246c6"
    }
   },
   "outputs": [],
   "source": [
    "keep_columns = ['is_churn','city','bd','gender','registered_via','days_since_registration']\n",
    "train_merged = train_merged[keep_columns]"
   ]
  },
  {
   "cell_type": "markdown",
   "metadata": {
    "nbpresent": {
     "id": "a6d46a95-770a-49c4-97ca-2ed6c33e1d08"
    }
   },
   "source": [
    "### One-hot encoding & handling missing data"
   ]
  },
  {
   "cell_type": "code",
   "execution_count": 13,
   "metadata": {
    "nbpresent": {
     "id": "03b58d4e-506c-481f-a73e-f00d7d5a4f42"
    },
    "scrolled": true
   },
   "outputs": [],
   "source": [
    "# One-Hot Encode categorical variables\n",
    "train_merged = pd.get_dummies(train_merged,columns=['gender','city','registered_via'], \n",
    "               prefix=['bin_gender','bin_city','bin_registered_via'], drop_first=True)\n",
    "\n",
    "# Imputation using Median and isnull feature for numeric columns\n",
    "train_merged['bin_bd_missing'] = train_merged.bd.isnull().astype(int)\n",
    "train_merged.bd.fillna(train_merged.bd.mode()[0],inplace=True)\n",
    "\n",
    "train_merged['bin_days_since_registration_missing'] = train_merged.days_since_registration.isnull().astype(int)\n",
    "train_merged.days_since_registration.fillna(train_merged.days_since_registration.mode()[0],inplace=True)"
   ]
  },
  {
   "cell_type": "code",
   "execution_count": 51,
   "metadata": {
    "nbpresent": {
     "id": "a9a1475f-6a29-4c09-9e8a-cfe5b0a9f898"
    }
   },
   "outputs": [
    {
     "data": {
      "text/plain": [
       "Index(['is_churn', 'bd', 'days_since_registration', 'bin_gender_male',\n",
       "       'bin_gender_missing', 'bin_city_3.0', 'bin_city_4.0', 'bin_city_5.0',\n",
       "       'bin_city_6.0', 'bin_city_7.0', 'bin_city_8.0', 'bin_city_9.0',\n",
       "       'bin_city_10.0', 'bin_city_11.0', 'bin_city_12.0', 'bin_city_13.0',\n",
       "       'bin_city_14.0', 'bin_city_15.0', 'bin_city_16.0', 'bin_city_17.0',\n",
       "       'bin_city_18.0', 'bin_city_19.0', 'bin_city_20.0', 'bin_city_21.0',\n",
       "       'bin_city_22.0', 'bin_city_missing', 'bin_registered_via_4.0',\n",
       "       'bin_registered_via_7.0', 'bin_registered_via_9.0',\n",
       "       'bin_registered_via_13.0', 'bin_registered_via_missing',\n",
       "       'bin_bd_missing', 'bin_days_since_registration_missing'],\n",
       "      dtype='object')"
      ]
     },
     "execution_count": 51,
     "metadata": {},
     "output_type": "execute_result"
    }
   ],
   "source": [
    "train_merged.columns"
   ]
  },
  {
   "cell_type": "code",
   "execution_count": 4,
   "metadata": {
    "nbpresent": {
     "id": "64d539ed-0b9b-4239-aed9-32f042484be9"
    }
   },
   "outputs": [],
   "source": [
    "from sklearn.tree import DecisionTreeClassifier\n",
    "from sklearn.metrics import roc_auc_score,confusion_matrix,roc_curve\n",
    "from sklearn.model_selection import train_test_split\n",
    "from statsmodels.stats.outliers_influence import variance_inflation_factor\n",
    "import seaborn as sns"
   ]
  },
  {
   "cell_type": "markdown",
   "metadata": {
    "nbpresent": {
     "id": "b7387ebc-9ed3-44b9-97d2-3103ffff0414"
    }
   },
   "source": [
    "Before proceeding to build a model, we need to create a proper test set."
   ]
  },
  {
   "cell_type": "code",
   "execution_count": 15,
   "metadata": {
    "nbpresent": {
     "id": "5fd9f4de-720d-41ec-a149-8c8638738f2a"
    }
   },
   "outputs": [],
   "source": [
    "X = train_merged[train_merged.columns[1:]]\n",
    "y = train_merged[train_merged.columns[:1]]\n",
    "# X.to_csv('X.csv')\n",
    "# y.to_csv('y.csv')"
   ]
  },
  {
   "cell_type": "code",
   "execution_count": 5,
   "metadata": {
    "nbpresent": {
     "id": "64c07690-2f20-45a9-8aa1-f8a5e2e3f0b8"
    }
   },
   "outputs": [],
   "source": [
    "X = pd.read_csv('X.csv',index_col=0)\n",
    "y = pd.read_csv('y.csv',index_col=0)"
   ]
  },
  {
   "cell_type": "code",
   "execution_count": 6,
   "metadata": {
    "nbpresent": {
     "id": "1a0b07d2-4506-44fa-9cc6-4e3f4df20534"
    }
   },
   "outputs": [],
   "source": [
    "X_train, X_test, y_train, y_test = train_test_split(X,y,test_size=0.3,random_state=22)"
   ]
  },
  {
   "cell_type": "markdown",
   "metadata": {
    "nbpresent": {
     "id": "397d3810-94e9-4af2-a548-c10476a7b092"
    }
   },
   "source": [
    "### Logistic Regression"
   ]
  },
  {
   "cell_type": "markdown",
   "metadata": {
    "nbpresent": {
     "id": "09d2470d-1548-4b25-9177-149f8f660408"
    }
   },
   "source": [
    "Let's check the correlation between our inputs to see if we need to address it. "
   ]
  },
  {
   "cell_type": "code",
   "execution_count": 7,
   "metadata": {
    "nbpresent": {
     "id": "05ea1583-ca0f-45f9-b242-83f035fe723a"
    }
   },
   "outputs": [
    {
     "data": {
      "text/plain": [
       "(array([ 0.5,  1.5,  2.5,  3.5,  4.5,  5.5,  6.5,  7.5,  8.5,  9.5, 10.5,\n",
       "        11.5, 12.5, 13.5, 14.5, 15.5, 16.5, 17.5, 18.5, 19.5, 20.5, 21.5,\n",
       "        22.5, 23.5, 24.5, 25.5, 26.5, 27.5, 28.5, 29.5, 30.5, 31.5]),\n",
       " <a list of 32 Text xticklabel objects>)"
      ]
     },
     "execution_count": 7,
     "metadata": {},
     "output_type": "execute_result"
    },
    {
     "data": {
      "image/png": "[encoded data removed]",
      "text/plain": [
       "<Figure size 1152x864 with 2 Axes>"
      ]
     },
     "metadata": {
      "needs_background": "light"
     },
     "output_type": "display_data"
    }
   ],
   "source": [
    "# plot the heatmap of correlations\n",
    "corr = X_train.corr()\n",
    "\n",
    "plt.figure(figsize=(16,12))\n",
    "sns.heatmap(corr,cmap='Set1',annot=False)\n",
    "plt.xticks(rotation=90)"
   ]
  },
  {
   "cell_type": "markdown",
   "metadata": {
    "nbpresent": {
     "id": "e2f79556-f6a2-47ba-abda-903904a72f96"
    }
   },
   "source": [
    "Whenever gender is missing, age is also missing. Similarly, there are some other high correlations between our inputs that need to be addressed before proceeding to modeling."
   ]
  },
  {
   "cell_type": "markdown",
   "metadata": {
    "nbpresent": {
     "id": "9e492838-e68a-498e-bd61-29ffd6299199"
    }
   },
   "source": [
    "[**Multicollinearity**](https://en.wikipedia.org/wiki/Multicollinearity) can be checked using the concept of [**variance inflation factor**](https://en.wikipedia.org/wiki/Variance_inflation_factor)(VIF). We don't want our variables to be correlated because the estimates of our coefficients would vary wildly and this would affect the interpretability of our model. Variance inflation factor is a measure of how much the variance of an estimated coefficient is increased because of collinearity. Values of VIF above 10 are considered high."
   ]
  },
  {
   "cell_type": "markdown",
   "metadata": {
    "nbpresent": {
     "id": "d188f6ca-8ccf-4f12-a4da-6d83e76e07e2"
    }
   },
   "source": [
    "Let's write a function to recursively remove columns from our dataframe that have the highest VIF until the maximum VIF is under 10 so we can begin modeling."
   ]
  },
  {
   "cell_type": "code",
   "execution_count": 8,
   "metadata": {
    "nbpresent": {
     "id": "b957c74b-dfda-4168-8da3-32ff68cefe11"
    }
   },
   "outputs": [],
   "source": [
    "def uncorrelate_using_vif(X, thresh=10.0):\n",
    "    # Taken from https://stats.stackexchange.com/a/253620/53565 and modified\n",
    "    dropped=True\n",
    "    while dropped:\n",
    "        variables = X.columns\n",
    "        dropped = False\n",
    "        vif = [variance_inflation_factor(X[variables].values, X.columns.get_loc(var)) for var in X.columns]\n",
    "\n",
    "        max_vif = max(vif)\n",
    "        if max_vif > thresh:\n",
    "            maxloc = vif.index(max_vif)\n",
    "            print(f'Dropping {X.columns[maxloc]} with vif={max_vif}')\n",
    "            X = X.drop([X.columns.tolist()[maxloc]], axis=1)\n",
    "            dropped=True\n",
    "    return X"
   ]
  },
  {
   "cell_type": "code",
   "execution_count": 9,
   "metadata": {
    "nbpresent": {
     "id": "723b05af-e5d0-436c-b49d-4afe9537c473"
    }
   },
   "outputs": [
    {
     "name": "stderr",
     "output_type": "stream",
     "text": [
      "/home/crashoverride/anaconda3/envs/nn_cv/lib/python3.6/site-packages/statsmodels/stats/outliers_influence.py:181: RuntimeWarning: divide by zero encountered in double_scalars\n",
      "  vif = 1. / (1. - r_squared_i)\n"
     ]
    },
    {
     "name": "stdout",
     "output_type": "stream",
     "text": [
      "Dropping bin_city_missing with vif=inf\n",
      "Dropping bin_registered_via_missing with vif=inf\n",
      "Dropping bin_gender_missing with vif=30.45967407294448\n",
      "Dropping bd with vif=17.141709122413193\n"
     ]
    }
   ],
   "source": [
    "X_train = uncorrelate_using_vif(X_train)"
   ]
  },
  {
   "cell_type": "markdown",
   "metadata": {},
   "source": [
    "Let's write a function that takes in a machine learning model with some training data and outputs the roc curve as well as score."
   ]
  },
  {
   "cell_type": "code",
   "execution_count": 75,
   "metadata": {},
   "outputs": [],
   "source": [
    "def calc_roc_stats(model,mode='train',X=X_train,y=y_train,verbose=1):\n",
    "    '''\n",
    "    Parameters\n",
    "    -------\n",
    "    model: Machine Learning model (sklearn)\n",
    "    mode: 'train' or 'test'\n",
    "    X: dataframe of independent variables\n",
    "    y: dataframe of dependent variable\n",
    "    verbose: boolen, if true, print accuracy and AUC\n",
    "    Returns\n",
    "    -------\n",
    "    model: fitted model\n",
    "    false positive rate: array of increasing false positive rates\n",
    "    true positive rate: array of increasing true positive rates\n",
    "    auc: area under the ROC curve\n",
    "    '''\n",
    "    \n",
    "    if mode == 'train':\n",
    "        model.fit(X,y)\n",
    "    y_hat = model.predict_proba(X)[:,1] #[P(0),P(1)]\n",
    "    fp,tp,th = roc_curve(y,y_hat)\n",
    "    auc = roc_auc_score(y,y_hat)\n",
    "    \n",
    "    if verbose:\n",
    "        print(\"Mean accuracy: {:0.2f}\".format(model.score(X,y)))\n",
    "        print(\"AUC: {:0.2f}\".format(auc))\n",
    "    \n",
    "    return model,fp,tp,auc"
   ]
  },
  {
   "cell_type": "code",
   "execution_count": 76,
   "metadata": {},
   "outputs": [
    {
     "name": "stderr",
     "output_type": "stream",
     "text": [
      "/home/crashoverride/anaconda3/envs/nn_cv/lib/python3.6/site-packages/sklearn/utils/validation.py:761: DataConversionWarning: A column-vector y was passed when a 1d array was expected. Please change the shape of y to (n_samples, ), for example using ravel().\n",
      "  y = column_or_1d(y, warn=True)\n",
      "/home/crashoverride/anaconda3/envs/nn_cv/lib/python3.6/site-packages/sklearn/linear_model/logistic.py:758: ConvergenceWarning: lbfgs failed to converge. Increase the number of iterations.\n",
      "  \"of iterations.\", ConvergenceWarning)\n"
     ]
    },
    {
     "name": "stdout",
     "output_type": "stream",
     "text": [
      "Mean accuracy: 0.63\n",
      "AUC: 0.68\n"
     ]
    }
   ],
   "source": [
    "log_reg = LogisticRegression(class_weight=\"balanced\",solver='lbfgs',penalty='l2')\n",
    "log_reg,fp_logreg,tp_logreg,auc_logreg = calc_roc_stats(model=log_reg)"
   ]
  },
  {
   "cell_type": "code",
   "execution_count": 12,
   "metadata": {
    "nbpresent": {
     "id": "7ea76e2d-de84-492b-b6a9-1e4de293e962"
    }
   },
   "outputs": [],
   "source": [
    "#Get model coefficients\n",
    "logreg_coef = pd.DataFrame({'column':X_train.columns.values,\n",
    "                           'coefficient':log_reg.coef_.transpose().flatten()})\n",
    "logreg_coef['exp(coefficient)'] = logreg_coef.coefficient.apply(lambda x: np.exp(x))"
   ]
  },
  {
   "cell_type": "code",
   "execution_count": 13,
   "metadata": {
    "nbpresent": {
     "id": "8a39c4fa-c93f-4c0e-a211-81c8f985b6b1"
    }
   },
   "outputs": [
    {
     "data": {
      "text/html": [
       "<div>\n",
       "<style scoped>\n",
       "    .dataframe tbody tr th:only-of-type {\n",
       "        vertical-align: middle;\n",
       "    }\n",
       "\n",
       "    .dataframe tbody tr th {\n",
       "        vertical-align: top;\n",
       "    }\n",
       "\n",
       "    .dataframe thead th {\n",
       "        text-align: right;\n",
       "    }\n",
       "</style>\n",
       "<table border=\"1\" class=\"dataframe\">\n",
       "  <thead>\n",
       "    <tr style=\"text-align: right;\">\n",
       "      <th></th>\n",
       "      <th>column</th>\n",
       "      <th>coefficient</th>\n",
       "      <th>exp(coefficient)</th>\n",
       "    </tr>\n",
       "  </thead>\n",
       "  <tbody>\n",
       "    <tr>\n",
       "      <th>26</th>\n",
       "      <td>bin_bd_missing</td>\n",
       "      <td>-0.346625</td>\n",
       "      <td>0.707070</td>\n",
       "    </tr>\n",
       "    <tr>\n",
       "      <th>9</th>\n",
       "      <td>bin_city_10.0</td>\n",
       "      <td>0.045105</td>\n",
       "      <td>1.046138</td>\n",
       "    </tr>\n",
       "    <tr>\n",
       "      <th>10</th>\n",
       "      <td>bin_city_11.0</td>\n",
       "      <td>-0.009299</td>\n",
       "      <td>0.990744</td>\n",
       "    </tr>\n",
       "    <tr>\n",
       "      <th>11</th>\n",
       "      <td>bin_city_12.0</td>\n",
       "      <td>0.091652</td>\n",
       "      <td>1.095983</td>\n",
       "    </tr>\n",
       "    <tr>\n",
       "      <th>12</th>\n",
       "      <td>bin_city_13.0</td>\n",
       "      <td>0.004913</td>\n",
       "      <td>1.004926</td>\n",
       "    </tr>\n",
       "    <tr>\n",
       "      <th>13</th>\n",
       "      <td>bin_city_14.0</td>\n",
       "      <td>0.030997</td>\n",
       "      <td>1.031482</td>\n",
       "    </tr>\n",
       "    <tr>\n",
       "      <th>14</th>\n",
       "      <td>bin_city_15.0</td>\n",
       "      <td>0.057587</td>\n",
       "      <td>1.059277</td>\n",
       "    </tr>\n",
       "    <tr>\n",
       "      <th>15</th>\n",
       "      <td>bin_city_16.0</td>\n",
       "      <td>-0.002110</td>\n",
       "      <td>0.997892</td>\n",
       "    </tr>\n",
       "    <tr>\n",
       "      <th>16</th>\n",
       "      <td>bin_city_17.0</td>\n",
       "      <td>-0.023653</td>\n",
       "      <td>0.976625</td>\n",
       "    </tr>\n",
       "    <tr>\n",
       "      <th>17</th>\n",
       "      <td>bin_city_18.0</td>\n",
       "      <td>0.010285</td>\n",
       "      <td>1.010338</td>\n",
       "    </tr>\n",
       "    <tr>\n",
       "      <th>18</th>\n",
       "      <td>bin_city_19.0</td>\n",
       "      <td>0.001039</td>\n",
       "      <td>1.001040</td>\n",
       "    </tr>\n",
       "    <tr>\n",
       "      <th>19</th>\n",
       "      <td>bin_city_20.0</td>\n",
       "      <td>-0.001264</td>\n",
       "      <td>0.998736</td>\n",
       "    </tr>\n",
       "    <tr>\n",
       "      <th>20</th>\n",
       "      <td>bin_city_21.0</td>\n",
       "      <td>0.047651</td>\n",
       "      <td>1.048805</td>\n",
       "    </tr>\n",
       "    <tr>\n",
       "      <th>21</th>\n",
       "      <td>bin_city_22.0</td>\n",
       "      <td>0.041456</td>\n",
       "      <td>1.042327</td>\n",
       "    </tr>\n",
       "    <tr>\n",
       "      <th>2</th>\n",
       "      <td>bin_city_3.0</td>\n",
       "      <td>0.029953</td>\n",
       "      <td>1.030406</td>\n",
       "    </tr>\n",
       "    <tr>\n",
       "      <th>3</th>\n",
       "      <td>bin_city_4.0</td>\n",
       "      <td>0.099972</td>\n",
       "      <td>1.105140</td>\n",
       "    </tr>\n",
       "    <tr>\n",
       "      <th>4</th>\n",
       "      <td>bin_city_5.0</td>\n",
       "      <td>0.138818</td>\n",
       "      <td>1.148915</td>\n",
       "    </tr>\n",
       "    <tr>\n",
       "      <th>5</th>\n",
       "      <td>bin_city_6.0</td>\n",
       "      <td>0.055297</td>\n",
       "      <td>1.056855</td>\n",
       "    </tr>\n",
       "    <tr>\n",
       "      <th>6</th>\n",
       "      <td>bin_city_7.0</td>\n",
       "      <td>-0.002780</td>\n",
       "      <td>0.997224</td>\n",
       "    </tr>\n",
       "    <tr>\n",
       "      <th>7</th>\n",
       "      <td>bin_city_8.0</td>\n",
       "      <td>0.043307</td>\n",
       "      <td>1.044259</td>\n",
       "    </tr>\n",
       "    <tr>\n",
       "      <th>8</th>\n",
       "      <td>bin_city_9.0</td>\n",
       "      <td>0.058213</td>\n",
       "      <td>1.059941</td>\n",
       "    </tr>\n",
       "    <tr>\n",
       "      <th>27</th>\n",
       "      <td>bin_days_since_registration_missing</td>\n",
       "      <td>-0.927572</td>\n",
       "      <td>0.395513</td>\n",
       "    </tr>\n",
       "    <tr>\n",
       "      <th>1</th>\n",
       "      <td>bin_gender_male</td>\n",
       "      <td>-0.096662</td>\n",
       "      <td>0.907863</td>\n",
       "    </tr>\n",
       "    <tr>\n",
       "      <th>25</th>\n",
       "      <td>bin_registered_via_13.0</td>\n",
       "      <td>-0.006328</td>\n",
       "      <td>0.993692</td>\n",
       "    </tr>\n",
       "    <tr>\n",
       "      <th>22</th>\n",
       "      <td>bin_registered_via_4.0</td>\n",
       "      <td>0.823520</td>\n",
       "      <td>2.278505</td>\n",
       "    </tr>\n",
       "    <tr>\n",
       "      <th>23</th>\n",
       "      <td>bin_registered_via_7.0</td>\n",
       "      <td>-1.075222</td>\n",
       "      <td>0.341222</td>\n",
       "    </tr>\n",
       "    <tr>\n",
       "      <th>24</th>\n",
       "      <td>bin_registered_via_9.0</td>\n",
       "      <td>-0.165678</td>\n",
       "      <td>0.847319</td>\n",
       "    </tr>\n",
       "    <tr>\n",
       "      <th>0</th>\n",
       "      <td>days_since_registration</td>\n",
       "      <td>-0.000054</td>\n",
       "      <td>0.999946</td>\n",
       "    </tr>\n",
       "  </tbody>\n",
       "</table>\n",
       "</div>"
      ],
      "text/plain": [
       "                                 column  coefficient  exp(coefficient)\n",
       "26                       bin_bd_missing    -0.346625          0.707070\n",
       "9                         bin_city_10.0     0.045105          1.046138\n",
       "10                        bin_city_11.0    -0.009299          0.990744\n",
       "11                        bin_city_12.0     0.091652          1.095983\n",
       "12                        bin_city_13.0     0.004913          1.004926\n",
       "13                        bin_city_14.0     0.030997          1.031482\n",
       "14                        bin_city_15.0     0.057587          1.059277\n",
       "15                        bin_city_16.0    -0.002110          0.997892\n",
       "16                        bin_city_17.0    -0.023653          0.976625\n",
       "17                        bin_city_18.0     0.010285          1.010338\n",
       "18                        bin_city_19.0     0.001039          1.001040\n",
       "19                        bin_city_20.0    -0.001264          0.998736\n",
       "20                        bin_city_21.0     0.047651          1.048805\n",
       "21                        bin_city_22.0     0.041456          1.042327\n",
       "2                          bin_city_3.0     0.029953          1.030406\n",
       "3                          bin_city_4.0     0.099972          1.105140\n",
       "4                          bin_city_5.0     0.138818          1.148915\n",
       "5                          bin_city_6.0     0.055297          1.056855\n",
       "6                          bin_city_7.0    -0.002780          0.997224\n",
       "7                          bin_city_8.0     0.043307          1.044259\n",
       "8                          bin_city_9.0     0.058213          1.059941\n",
       "27  bin_days_since_registration_missing    -0.927572          0.395513\n",
       "1                       bin_gender_male    -0.096662          0.907863\n",
       "25              bin_registered_via_13.0    -0.006328          0.993692\n",
       "22               bin_registered_via_4.0     0.823520          2.278505\n",
       "23               bin_registered_via_7.0    -1.075222          0.341222\n",
       "24               bin_registered_via_9.0    -0.165678          0.847319\n",
       "0               days_since_registration    -0.000054          0.999946"
      ]
     },
     "execution_count": 13,
     "metadata": {},
     "output_type": "execute_result"
    }
   ],
   "source": [
    "logreg_coef.sort_values(by='column')"
   ]
  },
  {
   "cell_type": "markdown",
   "metadata": {
    "nbpresent": {
     "id": "6056518a-22bc-4941-844c-e122c7767375"
    }
   },
   "source": [
    "These coefficients represent log odds. We need to exponentiate them and compare to the base class for each variable to see whether we have a higher likelihood of churning. Here are some examples of insights for the most important variables to help clarify the interpretation:\n",
    "* When customers sign up via method 4, their odds of churning are 2.28 as compared to the base class for registration, which is method 13 - barring all other inputs are held constant. Therefore, the **odds of customers churning are 128% higher for registration method 4 when compared to registration method 13**. KKBOX should further investigate into reducing the churn rate for users registered via method 4.\n",
    "* Similarly, users who register via method 7 have odds of 0.34 of churning when compared to the base class of registering via method 13. This means the **odds of customers churning are 66% lower for method 7 when compared to the odds of registering via method 13**.\n",
    "* If registration date is missing, then the odds of churning are 60% lower.\n",
    "* If the **user is male, the odds of churning are 9% lower** when compared to the odds of churning as a female."
   ]
  },
  {
   "cell_type": "markdown",
   "metadata": {
    "nbpresent": {
     "id": "fdace17c-d21d-47e3-8904-ae5f3ef126f2"
    }
   },
   "source": [
    "### Decision Tree"
   ]
  },
  {
   "cell_type": "code",
   "execution_count": 14,
   "metadata": {
    "nbpresent": {
     "id": "c381a3ba-c73f-4e98-92a3-e34acd041eb1"
    }
   },
   "outputs": [
    {
     "data": {
      "text/plain": [
       "6796"
      ]
     },
     "execution_count": 14,
     "metadata": {},
     "output_type": "execute_result"
    }
   ],
   "source": [
    "#address overfitting\n",
    "min_examples = int(0.01 * len(X_train))# at least 1% of data in leaf\n",
    "min_examples"
   ]
  },
  {
   "cell_type": "code",
   "execution_count": 77,
   "metadata": {
    "nbpresent": {
     "id": "cc074d20-8f25-4f17-85f3-6fe24d4001ce"
    }
   },
   "outputs": [
    {
     "name": "stdout",
     "output_type": "stream",
     "text": [
      "Mean accuracy: 0.62\n",
      "AUC: 0.73\n"
     ]
    }
   ],
   "source": [
    "tree = DecisionTreeClassifier(class_weight=\"balanced\",min_samples_leaf=min_examples)\n",
    "tree,fp_dt,tp_dt,auc_dt = calc_roc_stats(model=tree)"
   ]
  },
  {
   "cell_type": "markdown",
   "metadata": {
    "nbpresent": {
     "id": "450d0675-28e5-4b5c-b86e-f30c2e6f3cba"
    }
   },
   "source": [
    "### Random Forest"
   ]
  },
  {
   "cell_type": "code",
   "execution_count": 19,
   "metadata": {
    "nbpresent": {
     "id": "117cd1c2-69d9-487b-b6fd-f6dc4ad52ea2"
    }
   },
   "outputs": [],
   "source": [
    "from sklearn.ensemble import RandomForestClassifier"
   ]
  },
  {
   "cell_type": "code",
   "execution_count": 78,
   "metadata": {
    "nbpresent": {
     "id": "f4bdc9e8-90e0-4258-a04f-d08187d7e3b1"
    }
   },
   "outputs": [
    {
     "name": "stderr",
     "output_type": "stream",
     "text": [
      "/home/crashoverride/anaconda3/envs/nn_cv/lib/python3.6/site-packages/sklearn/ensemble/forest.py:246: FutureWarning: The default value of n_estimators will change from 10 in version 0.20 to 100 in 0.22.\n",
      "  \"10 in version 0.20 to 100 in 0.22.\", FutureWarning)\n",
      "/home/crashoverride/anaconda3/envs/nn_cv/lib/python3.6/site-packages/ipykernel_launcher.py:19: DataConversionWarning: A column-vector y was passed when a 1d array was expected. Please change the shape of y to (n_samples,), for example using ravel().\n"
     ]
    },
    {
     "name": "stdout",
     "output_type": "stream",
     "text": [
      "Mean accuracy: 0.60\n",
      "AUC: 0.71\n"
     ]
    }
   ],
   "source": [
    "rf = RandomForestClassifier(min_samples_leaf=min_examples, random_state=22, class_weight=\"balanced\")\n",
    "rf,fp_rf,tp_rf,auc_rf = calc_roc_stats(model=rf)"
   ]
  },
  {
   "cell_type": "markdown",
   "metadata": {},
   "source": [
    "### SVM"
   ]
  },
  {
   "cell_type": "code",
   "execution_count": 23,
   "metadata": {},
   "outputs": [],
   "source": [
    "# Runtime complexity: O(N^2)\n",
    "\n",
    "# from sklearn import svm\n",
    "# clf = svm.SVC(class_weight=\"balanced\")\n",
    "# clf.fit(X_train,y_train)\n",
    "# y_hat_svm = clf.predict_proba(X_test)[:,1]\n",
    "# fp_svm, tp_svm, th_svm = roc_curve(y_test,y_hat_svm)\n",
    "# auc_svm = roc_auc_score(y_test,y_hat_svm)"
   ]
  },
  {
   "cell_type": "markdown",
   "metadata": {},
   "source": [
    "### Naive Bayes"
   ]
  },
  {
   "cell_type": "code",
   "execution_count": 65,
   "metadata": {},
   "outputs": [],
   "source": [
    "from sklearn.naive_bayes import GaussianNB\n",
    "from matplotlib.lines import Line2D"
   ]
  },
  {
   "cell_type": "code",
   "execution_count": 79,
   "metadata": {},
   "outputs": [
    {
     "name": "stderr",
     "output_type": "stream",
     "text": [
      "/home/crashoverride/anaconda3/envs/nn_cv/lib/python3.6/site-packages/sklearn/utils/validation.py:761: DataConversionWarning: A column-vector y was passed when a 1d array was expected. Please change the shape of y to (n_samples, ), for example using ravel().\n",
      "  y = column_or_1d(y, warn=True)\n"
     ]
    },
    {
     "name": "stdout",
     "output_type": "stream",
     "text": [
      "Mean accuracy: 0.78\n",
      "AUC: 0.66\n"
     ]
    }
   ],
   "source": [
    "clf = GaussianNB()\n",
    "clf,fp_nb,tp_nb,auc_nb = calc_roc_stats(model=clf)"
   ]
  },
  {
   "cell_type": "code",
   "execution_count": 80,
   "metadata": {},
   "outputs": [
    {
     "data": {
      "text/plain": [
       "<matplotlib.legend.Legend at 0x7f643d405da0>"
      ]
     },
     "execution_count": 80,
     "metadata": {},
     "output_type": "execute_result"
    },
    {
     "data": {
      "image/png": "[encoded data removed]",
      "text/plain": [
       "<Figure size 1008x432 with 1 Axes>"
      ]
     },
     "metadata": {
      "needs_background": "light"
     },
     "output_type": "display_data"
    }
   ],
   "source": [
    "plt.figure(figsize=(14,6))\n",
    "plt.plot(fp_nb,tp_nb,color='pink')\n",
    "plt.plot(fp_rf,tp_rf,color='purple')\n",
    "plt.plot(fp_dt,tp_dt,color='g')\n",
    "plt.plot(fp_logreg,tp_logreg,color='r')\n",
    "plt.plot([0,1],[0,1],color='b')\n",
    "plt.title('Reciever operating Charactaristics (TRAINING)', fontsize=18)\n",
    "plt.xlabel('False positive rate', fontsize=16)\n",
    "plt.ylabel('True positive rate', fontsize=16)\n",
    "\n",
    "#custom legend\n",
    "legend_elements = [Line2D([0], [0], color='g', lw=4, label='Decision Tree (AUC: {:0.2f})'.format(auc_dt)),\n",
    "                   Line2D([0], [0], color='purple', lw=4, label='Random Forest (AUC: {:0.2f})'.format(auc_rf)),\n",
    "                   Line2D([0], [0], color='r', lw=4, label='Logistic Regression (AUC: {:0.2f})'.format(auc_logreg)),\n",
    "                   Line2D([0], [0], color='pink', lw=4, label='Naive Bayes (AUC: {:0.2f})'.format(auc_nb))]\n",
    "plt.legend(handles=legend_elements,loc='lower right', fontsize=16)"
   ]
  },
  {
   "cell_type": "markdown",
   "metadata": {},
   "source": [
    "Let's see how well our models generalize by predicting on the test data."
   ]
  },
  {
   "cell_type": "code",
   "execution_count": 81,
   "metadata": {},
   "outputs": [
    {
     "data": {
      "text/plain": [
       "<matplotlib.legend.Legend at 0x7f643d0b1240>"
      ]
     },
     "execution_count": 81,
     "metadata": {},
     "output_type": "execute_result"
    },
    {
     "data": {
      "image/png": "[encoded data removed]",
      "text/plain": [
       "<Figure size 1008x432 with 1 Axes>"
      ]
     },
     "metadata": {
      "needs_background": "light"
     },
     "output_type": "display_data"
    }
   ],
   "source": [
    "# Predict on Testing Data\n",
    "X_test = X_test[X_train.columns] #only keep uncorrelated columns\n",
    "\n",
    "# Logistic Regression\n",
    "log_reg, fp_logreg, tp_logreg, auc_logreg = calc_roc_stats(mode='test',model=log_reg,X=X_test,y=y_test,verbose=0)\n",
    "\n",
    "#Decision Tree\n",
    "tree, fp_dt, tp_dt, auc_dt = calc_roc_stats(mode='test',model=tree,X=X_test,y=y_test,verbose=0)\n",
    "\n",
    "#Random Forest\n",
    "rf, fp_rf, tp_rf, auc_rf = calc_roc_stats(mode='test',model=rf,X=X_test,y=y_test,verbose=0)\n",
    "\n",
    "#Naive Bayes\n",
    "clf, fp_nb, tp_nb, auc_nb = calc_roc_stats(mode='test',model=clf,X=X_test,y=y_test,verbose=0)\n",
    "\n",
    "plt.figure(figsize=(14,6))\n",
    "plt.plot(fp_dt,tp_dt,color='g')\n",
    "plt.plot(fp_logreg,tp_logreg,color='r')\n",
    "plt.plot(fp_nb,tp_nb,color='pink')\n",
    "plt.plot(fp_rf,tp_rf,color='purple')\n",
    "plt.plot([0,1],[0,1],color='b')\n",
    "plt.title('Reciever operating Charactaristics (TESTING)', fontsize=18)\n",
    "plt.xlabel('False positive rate', fontsize=16)\n",
    "plt.ylabel('True positive rate', fontsize=16)\n",
    "\n",
    "#custom legend\n",
    "legend_elements = [Line2D([0], [0], color='g', lw=4, label='Decision Tree (AUC: {:0.2f})'.format(auc_dt)),\n",
    "                   Line2D([0], [0], color='purple', lw=4, label='Random Forest (AUC: {:0.2f})'.format(auc_rf)),\n",
    "                   Line2D([0], [0], color='r', lw=4, label='Logistic Regression (AUC: {:0.2f})'.format(auc_logreg)),\n",
    "                   Line2D([0], [0], color='pink', lw=4, label='Naive Bayes (AUC: {:0.2f})'.format(auc_nb))]\n",
    "plt.legend(handles=legend_elements,loc='lower right', fontsize=16)"
   ]
  },
  {
   "cell_type": "markdown",
   "metadata": {},
   "source": [
    "All models are pretty stable and generalize well to unseen test data as witnessed by only slight changes in AUC between train and test sets."
   ]
  },
  {
   "cell_type": "markdown",
   "metadata": {
    "nbpresent": {
     "id": "178c69b8-cef5-4a21-a98f-f448680d231a"
    }
   },
   "source": [
    "# 5. Discussion"
   ]
  },
  {
   "cell_type": "code",
   "execution_count": null,
   "metadata": {
    "nbpresent": {
     "id": "ea81bb64-7960-443e-9004-5cc80ce0a57a"
    }
   },
   "outputs": [],
   "source": []
  },
  {
   "cell_type": "markdown",
   "metadata": {
    "nbpresent": {
     "id": "7c610707-5f5e-4641-a0d5-ffa42adbd44c"
    }
   },
   "source": [
    "# 6. Submit"
   ]
  },
  {
   "cell_type": "code",
   "execution_count": null,
   "metadata": {
    "nbpresent": {
     "id": "c63aa0e2-594f-4b6f-9f50-c0e2ce206ea3"
    }
   },
   "outputs": [],
   "source": [
    "submit = pd.DataFrame({'msno':test['msno'], 'is_churn':y_hat})\n",
    "submit.to_csv('submission.csv',index=False)"
   ]
  }
 ],
 "metadata": {
  "kernelspec": {
   "display_name": "Python (nn_cv)",
   "language": "python",
   "name": "nn_cv"
  },
  "language_info": {
   "codemirror_mode": {
    "name": "ipython",
    "version": 3
   },
   "file_extension": ".py",
   "mimetype": "text/x-python",
   "name": "python",
   "nbconvert_exporter": "python",
   "pygments_lexer": "ipython3",
   "version": "3.6.7"
  }
 },
 "nbformat": 4,
 "nbformat_minor": 2
}
